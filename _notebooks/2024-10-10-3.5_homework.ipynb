{
 "cells": [
  {
   "cell_type": "raw",
   "metadata": {
    "vscode": {
     "languageId": "raw"
    }
   },
   "source": [
    "---\n",
    "layout: post\n",
    "title: 3.5 Homework\n",
    "toc: true\n",
    "comments: true\n",
    "---"
   ]
  },
  {
   "cell_type": "markdown",
   "metadata": {},
   "source": [
    "## Hack 1"
   ]
  },
  {
   "cell_type": "markdown",
   "metadata": {},
   "source": [
    "### Hack 1 (Python)"
   ]
  },
  {
   "cell_type": "code",
   "execution_count": 2,
   "metadata": {},
   "outputs": [
    {
     "name": "stdout",
     "output_type": "stream",
     "text": [
      "True\n",
      "True\n",
      "False\n",
      "False\n"
     ]
    }
   ],
   "source": [
    "# Function to determine to go outside\n",
    "def should_go_outside(temperature, is_raining):\n",
    "    if temperature < 100 and is_raining:\n",
    "        return True\n",
    "    elif temperature > 32 and not is_raining:\n",
    "        return True\n",
    "    else:\n",
    "        return False\n",
    "\n",
    "# Example Output\n",
    "print(should_go_outside(85, True))  # True\n",
    "print(should_go_outside(50, False)) # True\n",
    "print(should_go_outside(100, True)) # False\n",
    "print(should_go_outside(30, False)) # False"
   ]
  },
  {
   "cell_type": "markdown",
   "metadata": {},
   "source": [
    "### Hack 1 (JavaScript)"
   ]
  },
  {
   "cell_type": "code",
   "execution_count": null,
   "metadata": {
    "vscode": {
     "languageId": "javascript"
    }
   },
   "outputs": [],
   "source": [
    "// Function to determine to go outside\n",
    "function shouldGoOutside(temperature, isRaining) {\n",
    "    if (temperature < 100 && isRaining) {\n",
    "        return true;\n",
    "    } else if (temperature > 32 && !isRaining) {\n",
    "        return true;\n",
    "    } else {\n",
    "        return false;\n",
    "    }\n",
    "}\n",
    "\n",
    "// Example Output\n",
    "console.log(shouldGoOutside(85, true));  // Output: true\n",
    "console.log(shouldGoOutside(50, false)); // Output: true\n",
    "console.log(shouldGoOutside(100, true)); // Output: false\n",
    "console.log(shouldGoOutside(30, false)); // Output: false\n"
   ]
  },
  {
   "cell_type": "markdown",
   "metadata": {},
   "source": [
    "## Hack 2"
   ]
  },
  {
   "cell_type": "markdown",
   "metadata": {},
   "source": [
    "### Hack 2 (Python)"
   ]
  },
  {
   "cell_type": "code",
   "execution_count": null,
   "metadata": {},
   "outputs": [],
   "source": [
    "# Simplified Expression 1\n",
    "stay_inside = not is_raining or not is_cold\n",
    "\n",
    "# Simplified Expression 2\n",
    "stay_inside = not is_raining and not is_cold"
   ]
  },
  {
   "cell_type": "markdown",
   "metadata": {},
   "source": [
    "### Hack 2 (JavaScript)"
   ]
  },
  {
   "cell_type": "code",
   "execution_count": null,
   "metadata": {
    "vscode": {
     "languageId": "javascript"
    }
   },
   "outputs": [],
   "source": [
    "// Simplified Expression 1\n",
    "let stayInside = !isRaining || !isCold;\n",
    "\n",
    "// Simplified Expression 2\n",
    "let stayInside = !isRaining && !isCold;"
   ]
  }
 ],
 "metadata": {
  "kernelspec": {
   "display_name": "Python 3 (ipykernel)",
   "language": "python",
   "name": "python3"
  },
  "language_info": {
   "codemirror_mode": {
    "name": "ipython",
    "version": 3
   },
   "file_extension": ".py",
   "mimetype": "text/x-python",
   "name": "python",
   "nbconvert_exporter": "python",
   "pygments_lexer": "ipython3",
   "version": "3.10.12"
  }
 },
 "nbformat": 4,
 "nbformat_minor": 2
}
