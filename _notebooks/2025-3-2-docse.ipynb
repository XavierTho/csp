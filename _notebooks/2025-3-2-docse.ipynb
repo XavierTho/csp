{
 "cells": [
  {
   "cell_type": "markdown",
   "metadata": {},
   "source": [
    "---\n",
    "layout: post\n",
    "title: DOCSE Blog\n",
    "toc: true\n",
    "comments: true\n",
    "---"
   ]
  },
  {
   "cell_type": "markdown",
   "metadata": {},
   "source": [
    "This blog covers the 5 main things I have done in the past 12 weeks of CSP."
   ]
  },
  {
   "cell_type": "markdown",
   "metadata": {},
   "source": [
    "### 1. GradeLog Feature\n",
    "Burndown List: https://github.com/XavierTho/cantella_backend/issues/45\n",
    "\n",
    "This was my main feature and was core to my learning about APIs, models, the backend in general, and the connection between frontend and backend."
   ]
  },
  {
   "cell_type": "markdown",
   "metadata": {},
   "source": [
    "### 2. Admin Page\n",
    "Burndown List:"
   ]
  },
  {
   "cell_type": "markdown",
   "metadata": {},
   "source": [
    "### 3. Backend AWS Deployment\n",
    "Burndown List: https://github.com/XavierTho/cantella_frontend/issues/70\n",
    "\n",
    "I, as the deployment admin, led my team through the near entirety of integrating our backend code into the cloud on AWS. "
   ]
  },
  {
   "cell_type": "markdown",
   "metadata": {},
   "source": [
    "### 4. Deployment Blog\n",
    "Burndown List: https://github.com/XavierTho/cantella_frontend/issues/70\n",
    "\n",
    "Culminating what I learned and the knowledge gained through my experience of setting up the backend on AWS, I set out to make a deployment blog that would be so thorough in its steps, someone with minimal experience on the subject would be able to complete the task by just following the guide."
   ]
  }
 ],
 "metadata": {
  "language_info": {
   "name": "python"
  }
 },
 "nbformat": 4,
 "nbformat_minor": 2
}
