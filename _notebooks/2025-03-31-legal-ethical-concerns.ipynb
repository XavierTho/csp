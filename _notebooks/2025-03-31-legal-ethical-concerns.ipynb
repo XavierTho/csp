{
 "cells": [
  {
   "cell_type": "raw",
   "metadata": {
    "vscode": {
     "languageId": "raw"
    }
   },
   "source": [
    "---\n",
    "layout: post\n",
    "title: Legal Ethical Concern Homework\n",
    "toc: false\n",
    "comments: true\n",
    "---"
   ]
  },
  {
   "cell_type": "markdown",
   "metadata": {},
   "source": [
    "## Popcorn Hack #1\n",
    "\n",
    "Question: Give an example of when it is your IP, and when it is not your IP.\n",
    "\n",
    "When it is my IP (example): The creation of a logo to represent a school club.\n",
    "\n",
    "When it isn't my IP (example): Making a stick figure and declaring all stick figures to be my intellectual propertyadam"
   ]
  }
 ],
 "metadata": {
  "language_info": {
   "name": "python"
  }
 },
 "nbformat": 4,
 "nbformat_minor": 2
}
