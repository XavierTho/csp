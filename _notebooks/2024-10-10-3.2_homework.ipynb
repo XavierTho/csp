{
 "cells": [
  {
   "cell_type": "raw",
   "metadata": {
    "vscode": {
     "languageId": "raw"
    }
   },
   "source": [
    "---\n",
    "layout: post\n",
    "title: 3.2 Homework\n",
    "toc: true\n",
    "comments: true\n",
    "---"
   ]
  },
  {
   "cell_type": "code",
   "execution_count": 1,
   "metadata": {},
   "outputs": [
    {
     "name": "stdout",
     "output_type": "stream",
     "text": [
      "{'fruit': 'apple', 'color': 'red', 'quantity': 5}\n"
     ]
    }
   ],
   "source": [
    "# Creating a dictionary with at least 3 keys\n",
    "my_dict = {\n",
    "    \"fruit\": \"apple\",\n",
    "    \"color\": \"red\",\n",
    "    \"quantity\": 5\n",
    "}\n",
    "\n",
    "# Printing the dictionary\n",
    "print(my_dict)"
   ]
  },
  {
   "cell_type": "code",
   "execution_count": 2,
   "metadata": {},
   "outputs": [
    {
     "name": "stdout",
     "output_type": "stream",
     "text": [
      "{'name': 'Alice', 'age': 31}\n"
     ]
    }
   ],
   "source": [
    "# Starting dictionary\n",
    "person = {\"name\": \"Alice\", \"age\": 30}\n",
    "\n",
    "# Updating the age to 31\n",
    "person[\"age\"] = 31\n",
    "\n",
    "# Printing the updated dictionary\n",
    "print(person)\n"
   ]
  },
  {
   "cell_type": "code",
   "execution_count": 3,
   "metadata": {},
   "outputs": [
    {
     "name": "stdout",
     "output_type": "stream",
     "text": [
      "{'name': 'popcorn', 'flavor': 'butter', 'quantity': 15, 'price': 3.5}\n"
     ]
    }
   ],
   "source": [
    "# Step 1: Create a dictionary\n",
    "snack = {\n",
    "    \"name\": \"popcorn\",\n",
    "    \"flavor\": \"butter\",\n",
    "    \"quantity\": 10\n",
    "}\n",
    "\n",
    "# Step 2: Update the 'quantity' item\n",
    "snack[\"quantity\"] = 15\n",
    "\n",
    "# Step 3: Add a new item for 'price'\n",
    "snack[\"price\"] = 3.50\n",
    "\n",
    "# Print the updated dictionary\n",
    "print(snack)\n"
   ]
  },
  {
   "cell_type": "code",
   "execution_count": 4,
   "metadata": {},
   "outputs": [
    {
     "name": "stdout",
     "output_type": "stream",
     "text": [
      "The sum is: 12\n"
     ]
    }
   ],
   "source": [
    "# Function to add two integers\n",
    "def add_two_numbers(a, b):\n",
    "    return a + b\n",
    "\n",
    "# Define the integers\n",
    "num1 = 5\n",
    "num2 = 7\n",
    "\n",
    "# Call the function and print the result\n",
    "result = add_two_numbers(num1, num2)\n",
    "print(\"The sum is:\", result)\n"
   ]
  }
 ],
 "metadata": {
  "kernelspec": {
   "display_name": "Python 3 (ipykernel)",
   "language": "python",
   "name": "python3"
  },
  "language_info": {
   "codemirror_mode": {
    "name": "ipython",
    "version": 3
   },
   "file_extension": ".py",
   "mimetype": "text/x-python",
   "name": "python",
   "nbconvert_exporter": "python",
   "pygments_lexer": "ipython3",
   "version": "3.10.12"
  }
 },
 "nbformat": 4,
 "nbformat_minor": 2
}
