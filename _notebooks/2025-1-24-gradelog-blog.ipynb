{
 "cells": [
  {
   "cell_type": "markdown",
   "metadata": {},
   "source": [
    "---\n",
    "layout: post\n",
    "title: Gradelog Blog\n",
    "toc: true\n",
    "comments: true\n",
    "---"
   ]
  },
  {
   "cell_type": "markdown",
   "metadata": {},
   "source": [
    "## Overview of Website\n",
    "Cantella is a site that was created with the intention to give students various resources in which they could use in order to succeed in school. We have flashcards, quizzes, competitive leaderboards, a way to keep track of your grades and study sessions, and more.\n",
    "\n",
    "## Individual Feature\n",
    "The individual feature in which I have been tasked to create was a program that allows a user to input their grade for any given subject and additional notes to describe why or for what assignment they received this grade for."
   ]
  },
  {
   "cell_type": "markdown",
   "metadata": {},
   "source": [
    "\n",
    "## Input / Output Requests\n",
    "The grade log feature can be accessed by the following path: **{{site.url}}/cantella_frontend/gradelog**. \n",
    "\n",
    "Here you can input data through the frontend which will subsequently be stored into the backend.\n",
    "\n",
    "### Frontend Demo\n",
    "\n",
    "**Frontend View:**\n",
    "\n",
    "<img src=\"{{site.baseurl}}/images/grade-log-blog/frontend-I.png\" width=\"35%\">\n",
    "<img src=\"{{site.baseurl}}/images/grade-log-blog/frontend-O.png\" width=\"40%\">\n",
    "\n",
    "\n",
    "**Backend View:**\n",
    "\n",
    "<img src=\"{{site.baseurl}}/images/grade-log-blog/backend-O.png\" width=\"70%\">\n",
    "<img src=\"{{site.baseurl}}/images/grade-log-blog/backend-database-O.png\" width=\"90%\">\n",
    "\n",
    "### Postman\n",
    "In order to first retrieve raw data from Postman, we first have to send a **POST** request to `localhost:8887/api/authenticate` and input the data:\n",
    "\n",
    "```\n",
    "{\n",
    "  \"uid\": \"niko\",\n",
    "  \"password\": \"123niko\"\n",
    "}\n",
    "```\n",
    "\n",
    "Sending this request will output: `Authentication for niko successful`.\n",
    "\n",
    "This signifies that we are now logged into the site and hence have access to the grade log feature; a feature only accessible when a user is logged in.\n",
    "\n",
    "Once logged in, one should now send a **GET** request to `localhost:8887/api/gradelog`\n",
    "\n",
    "In the case of the example above, this would be the output:\n",
    "\n",
    "```\n",
    "[\n",
    "    {\n",
    "        \"date\": \"2025-01-27 00:06:57\",\n",
    "        \"grade\": 100.0,\n",
    "        \"id\": 1,\n",
    "        \"notes\": \"Assignment was first Unit Test. It was really easy.\",\n",
    "        \"subject\": \"Math\",\n",
    "        \"user_id\": 3\n",
    "    }\n",
    "]\n",
    "```\n",
    "\n",
    "\n",
    "\n",
    "### Database Management\n",
    "Having the ability to clear, backup, and restore a database are useful, if not essential, for a functioning database to have. The following will demonstrate the usage of **db_init** (for clearing a database), **db_backup** (for backing up a database), and **db_restore** (for restoring a database).\n",
    "\n",
    "### db_backup (Backup)\n",
    "To run db_backup, once must go to their backend repository and run the following in their VS Code terminal: `scripts/db_backup.py`. This \"command\" is not so much a command as it is a path. When we enter the path to the db_backup file, the terminal assumes we want to run the file and so it does. Inputting this filepath outputs the following:\n",
    "\n",
    "```\n",
    "Data backed up to the backup directory.\n",
    "Database backed up to instance/volumes/user_management_bak.db\n",
    "```\n",
    "\n",
    "This output is telling us that all the entries in our main database, `user_management.db`, have been stored to the backup database, `user_management_bak.db`. Now when we clear the database with db_init or sending DELETE requests from the frontend or postman, all our data will still be protected and stored in our backup database, regardless of the changes made to the main one.\n",
    "\n",
    "### db_init (Clear)\n",
    "\n",
    "To run db_init, once must go to their backend repository and run the following in their VS Code terminal: `scripts/db_init.py`. To reiterate from before, we are essentially typing in the path to db_init as it not invoke the running of the file. Inputting this filepath outputs the following:\n",
    "\n",
    "```\n",
    "Warning, you are about to lose all data in the database!\n",
    "Do you want to continue? (y/n)\n",
    "```\n",
    "\n",
    "In our case, we type **y**, as we want to continue and clear all the data in the database.\n",
    "\n",
    "Doing so outputs:\n",
    "```\n",
    "Database backed up to instance/volumes/user_management_bak.db\n",
    "All tables dropped.\n",
    "Generating data.\n",
    "```\n",
    "\n",
    "This output is telling us that all tables or, more pragmatically speaking, all our data in our databases, have been cleared. Additionally, new data is being generated, assuming you have default data that needs to be automatically added. When it comes to default data, there can be extra output depending if one has added such or not.\n",
    "\n",
    "Now that we have backed up our data and cleared it from the main database, it's time to restore it back.\n",
    "\n",
    "\n",
    "### db_restore (Restore)\n",
    "Same song, different tune. Input `scripts/db_restore.py` to the terminal and you will be outputted with:\n",
    "\n",
    "```\n",
    "Data restored to the new database.\n",
    "```\n",
    "\n",
    "The data that we backed up to `user_management_bak.db` is now copied back into  `user_management.db`, allowing one to retrieve any data they may have deleted or lost."
   ]
  },
  {
   "cell_type": "markdown",
   "metadata": {},
   "source": [
    "## List Requests"
   ]
  },
  {
   "cell_type": "code",
   "execution_count": null,
   "metadata": {
    "vscode": {
     "languageId": "plaintext"
    }
   },
   "outputs": [],
   "source": []
  }
 ],
 "metadata": {
  "language_info": {
   "name": "python"
  }
 },
 "nbformat": 4,
 "nbformat_minor": 2
}
