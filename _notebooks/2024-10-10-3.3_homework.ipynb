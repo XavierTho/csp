{
 "cells": [
  {
   "cell_type": "raw",
   "metadata": {
    "vscode": {
     "languageId": "raw"
    }
   },
   "source": [
    "---\n",
    "layout: post\n",
    "title: 3.3 Homework\n",
    "toc: true\n",
    "comments: true\n",
    "---"
   ]
  },
  {
   "cell_type": "markdown",
   "metadata": {},
   "source": [
    "## Hack 1"
   ]
  },
  {
   "cell_type": "markdown",
   "metadata": {},
   "source": [
    "### Hack 1 (Python)"
   ]
  },
  {
   "cell_type": "code",
   "execution_count": 5,
   "metadata": {},
   "outputs": [
    {
     "name": "stdout",
     "output_type": "stream",
     "text": [
      "9\n",
      "3\n",
      "2.0\n",
      "0\n",
      "216\n"
     ]
    }
   ],
   "source": [
    "### Mathematical Functions ###\n",
    "def add(a,b):\n",
    "    return a + b # Adds A & B\n",
    "\n",
    "def subtract(a,b):\n",
    "    return a - b # Subtracts A & B\n",
    "\n",
    "def divide(a,b): # Divides A & B\n",
    "    return a / b\n",
    "\n",
    "def modulus(a,b):\n",
    "    return a % b # Divides A & B and retrieves remainder\n",
    "\n",
    "def power(a,b):\n",
    "    return a ** b # A is raised to the power of B\n",
    "\n",
    "### Example Usage ###\n",
    "print( add(6,3) ) # Output: 9\n",
    "print( subtract(6,3) ) # Output: 3\n",
    "print( divide(6,3) ) # Output: 2.0\n",
    "print( modulus(6,3) ) # Output: 0\n",
    "print ( power(6,3) ) # Output 216\n"
   ]
  },
  {
   "cell_type": "markdown",
   "metadata": {},
   "source": [
    "\n",
    "### Hack 1 (JavaScript)"
   ]
  },
  {
   "cell_type": "code",
   "execution_count": null,
   "metadata": {
    "vscode": {
     "languageId": "javascript"
    }
   },
   "outputs": [],
   "source": [
    "/// Mathematical Functions ///\n",
    "\n",
    "// Adds A & B\n",
    "function add(a,b) { \n",
    "    return a + b\n",
    "}\n",
    "\n",
    "// Subtracts A & B\n",
    "function subtract(a,b) {\n",
    "    return a - b \n",
    "}\n",
    "\n",
    "// Divides A & B\n",
    "function divide(a,b) {\n",
    "    return a / b\n",
    "}\n",
    "\n",
    "// Divides A & B and retrieves remainder\n",
    "function modulus(a,b) {\n",
    "    return a % b\n",
    "}\n",
    "\n",
    "// A is raised to the power of B\n",
    "function power(a,b) {\n",
    "    return a ** b\n",
    "}\n",
    "\n",
    "\n",
    "/// Example Usage ///\n",
    "console.log( add(2,5) ) // Output: 7\n",
    "console.log( subtract(2,5) ) // Output: -3\n",
    "console.log( divide(2,5) ) // Output: 0.4\n",
    "console.log( modulus(2,5) ) // Output: 2\n",
    "console.log( power(2,5) ) // Output: 32"
   ]
  },
  {
   "cell_type": "markdown",
   "metadata": {},
   "source": [
    "## Hack 2"
   ]
  },
  {
   "cell_type": "markdown",
   "metadata": {},
   "source": [
    "### Hack 2 (Python)"
   ]
  },
  {
   "cell_type": "code",
   "execution_count": 2,
   "metadata": {},
   "outputs": [
    {
     "name": "stdout",
     "output_type": "stream",
     "text": [
      "-18\n",
      "27\n",
      "52\n"
     ]
    }
   ],
   "source": [
    "# Takes parameter and multiples by 5 and adds 2\n",
    "def point_finder(x):\n",
    "    return (x*5) + 2\n",
    "\n",
    "# Example Output\n",
    "print(point_finder(-4)) # Output: -18\n",
    "print(point_finder(5)) # Output: 27\n",
    "print(point_finder(10)) # Output: 52"
   ]
  },
  {
   "cell_type": "markdown",
   "metadata": {},
   "source": [
    "### Hack 2 (JavaScript)"
   ]
  },
  {
   "cell_type": "code",
   "execution_count": null,
   "metadata": {
    "vscode": {
     "languageId": "javascript"
    }
   },
   "outputs": [],
   "source": [
    "// Takes parameter and multiples by 5 and adds 2\n",
    "function point_finder(x) {\n",
    "    return (x*5) + 2\n",
    "}\n",
    "\n",
    "// Example Output\n",
    "console.log(point_finder(-4)) // Output: -18\n",
    "console.log(point_finder(5)) // Output: 27\n",
    "console.log(point_finder(10)) // Output: 52"
   ]
  }
 ],
 "metadata": {
  "kernelspec": {
   "display_name": "Python 3 (ipykernel)",
   "language": "python",
   "name": "python3"
  },
  "language_info": {
   "codemirror_mode": {
    "name": "ipython",
    "version": 3
   },
   "file_extension": ".py",
   "mimetype": "text/x-python",
   "name": "python",
   "nbconvert_exporter": "python",
   "pygments_lexer": "ipython3",
   "version": "3.10.12"
  }
 },
 "nbformat": 4,
 "nbformat_minor": 2
}
