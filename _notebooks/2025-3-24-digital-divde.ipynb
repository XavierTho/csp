{
 "cells": [
  {
   "cell_type": "raw",
   "metadata": {
    "vscode": {
     "languageId": "raw"
    }
   },
   "source": [
    "---\n",
    "layout: post\n",
    "title: Digital Divide Lesson\n",
    "toc: false\n",
    "comments: true\n",
    "---"
   ]
  },
  {
   "cell_type": "markdown",
   "metadata": {},
   "source": [
    "## Code Snippet 1\n",
    "<img src=\"{{site.baseurl}}/images/digital-divide-lesson/code-snippet-one.png\">"
   ]
  },
  {
   "cell_type": "markdown",
   "metadata": {},
   "source": [
    "## Code Snippet 2\n",
    "<img src=\"{{site.baseurl}}/images/digital-divide-lesson/code-snippet-two.png\">"
   ]
  },
  {
   "cell_type": "markdown",
   "metadata": {},
   "source": [
    "## Essay Questions\n",
    "\n",
    "1. Analyze how the COVID-19 pandemic exposed and potentially exacerbated existing digital divides. Include at least three specific examples.\n",
    "The COVID-19 pandemic highlighted stark disparities in digital access as remote work, education, and healthcare became reliant on stable internet and digital devices. Low-income families, particularly in rural and underserved urban areas, often lacked reliable broadband or multiple devices for children attending online classes. Additionally, older adults and non-English speakers faced challenges navigating digital platforms, deepening existing social and economic inequalities.\n",
    "\n",
    "\n",
    "2. Explain how economic factors contribute to the digital divide and propose policy solutions that might address these economic barriers.\n",
    "Economic inequality restricts access to devices, internet services, and digital literacy resources, making it harder for low-income individuals to engage in an increasingly digital society. Families struggling to afford essentials often cannot invest in adequate technology or connectivity. To reduce this gap, policies could include subsidized broadband programs, public investment in community tech hubs, and digital literacy training initiatives targeted at economically disadvantaged populations."
   ]
  },
  {
   "cell_type": "markdown",
   "metadata": {},
   "source": [
    "## Digital Divide Map Explorer (Extra Credit)\n",
    "\n",
    "\n",
    "### Comparison and Digital Divide Analysis:\n",
    "The United States and Sudan differ significantly in internet penetration (92% vs. 31%), digital literacy (86% vs. 26%), and average internet speed (224.5 Mbps vs. 15.4 Mbps). One major aspect of the digital divide is digital literacy, where Sudan lags far behind the U.S., limiting its population’s ability to use digital tools effectively. This gap can result in reduced access to education, global economic participation, and essential services like telemedicine, further entrenching poverty and social exclusion in Sudan.\n",
    "\n",
    "\n",
    "### Solution\n",
    "A practical solution to improve digital literacy in Sudan is to establish community-based digital education centers using solar-powered technology in schools or local gathering places. These centers can offer basic digital skills training in local languages, targeting youth and adults with hands-on instruction using low-cost devices like tablets or refurbished laptops. Partnering with NGOs and international aid organizations can ensure sustainable funding and training for local instructors, making the program scalable and rooted in the community’s needs."
   ]
  }
 ],
 "metadata": {
  "language_info": {
   "name": "python"
  }
 },
 "nbformat": 4,
 "nbformat_minor": 2
}
