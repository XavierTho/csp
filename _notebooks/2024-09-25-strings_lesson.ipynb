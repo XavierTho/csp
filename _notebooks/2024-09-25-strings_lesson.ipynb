{
 "cells": [
  {
   "cell_type": "raw",
   "metadata": {
    "vscode": {
     "languageId": "raw"
    }
   },
   "source": [
    "---\n",
    "layout: post\n",
    "title: Strings in Python\n",
    "toc: true\n",
    "comments: true\n",
    "---"
   ]
  },
  {
   "cell_type": "markdown",
   "metadata": {},
   "source": [
    "## Introduction to Strings\n",
    "Strings in Python & in programming languages in general are a way of storing data that is text.\n",
    "\n",
    "Examples include:\n",
    "```\n",
    "Hello World\n",
    "My name is Xavier\n",
    "Javascript > Python\n",
    "```"
   ]
  },
  {
   "cell_type": "markdown",
   "metadata": {},
   "source": [
    "Strings are always surrounded with single or double quotes. Both have the same effect, but stick with the one you choose to use."
   ]
  },
  {
   "cell_type": "code",
   "execution_count": null,
   "metadata": {},
   "outputs": [],
   "source": [
    "print(\"Welcome\")\n",
    "print(\"Hello!\")\n",
    "print(\"123\")"
   ]
  },
  {
   "cell_type": "markdown",
   "metadata": {},
   "source": [
    "Did you see that? We can have numbers as strings too! So long as a number is encapsulated in quotations, then it's considered to be a str and not a int or a float, which are the data types usually associated to numbers."
   ]
  },
  {
   "cell_type": "markdown",
   "metadata": {},
   "source": [
    "## Basic String Operations\n",
    "\n",
    "Strings in Python are very flexible and can be manipulated in a mulititude of ways. In this section, we'll being over what these \"ways\" are."
   ]
  },
  {
   "cell_type": "markdown",
   "metadata": {},
   "source": [
    "### Concatenation\n",
    "One of the main things that can be done with strings is connecting them together, formally known as concatenation."
   ]
  },
  {
   "cell_type": "code",
   "execution_count": 4,
   "metadata": {},
   "outputs": [
    {
     "name": "stdout",
     "output_type": "stream",
     "text": [
      "Hello, World!\n",
      "123\n"
     ]
    }
   ],
   "source": [
    "print(\"Hello, \" + \"World!\")\n",
    "print(\"1\" + \"2\" + \"3\")"
   ]
  },
  {
   "cell_type": "markdown",
   "metadata": {},
   "source": [
    "While in the examples above, the reason why we would concatenate isn't made clear, the reason concatenation is so useful is when we have two or more variables that may not be statically defined, we can combine them together to form a cohesive string."
   ]
  },
  {
   "cell_type": "code",
   "execution_count": 9,
   "metadata": {},
   "outputs": [
    {
     "name": "stdout",
     "output_type": "stream",
     "text": [
      "Your name is: Xavier Thompson\n"
     ]
    }
   ],
   "source": [
    "x = input(\"What's your first name?\")\n",
    "y = input(\"what's your last name?\")\n",
    "print(\"Your name is: \" + x + \" \" + y)"
   ]
  },
  {
   "cell_type": "markdown",
   "metadata": {},
   "source": [
    "### Repetition / Multiplication\n",
    "A really cool feature of python that isn't avaliable in other languages is it's ability to multiply strings like you would with an integer."
   ]
  },
  {
   "cell_type": "code",
   "execution_count": 10,
   "metadata": {},
   "outputs": [
    {
     "name": "stdout",
     "output_type": "stream",
     "text": [
      "GreenGreenGreen\n"
     ]
    }
   ],
   "source": [
    "#Repetition\n",
    "color = \"Green\"\n",
    "repeat_color = color * 3\n",
    "print(repeat_color)"
   ]
  },
  {
   "cell_type": "markdown",
   "metadata": {},
   "source": [
    "The usage of multiplying text in Python isn't used in most circumstances, but when it comes to making something artistic of out text (ASCII Art), then this feature of python may come in handy later on."
   ]
  },
  {
   "cell_type": "markdown",
   "metadata": {},
   "source": [
    "### Indexing\n",
    "Indexing is the process of accessing a specific char (or sequence of chars) in a string. Each character in a string is assigned two numbers that is used to identify its position in a string. Take the following string:\n",
    "\n",
    "\"HELLO\"\n",
    "> When indexing, it's best to look at HELLO from its constituent parts.\n",
    "\n",
    "```\n",
    "['H'] ['E'] ['L'] ['L'] ['O']\n",
    "```\n",
    "\n",
    "Intutively, we would imagine that H would be assigned 1 as its the first character, however an important fact to note is in programming, we start counting at 0. So H would be assigned 0, E would be assigned 1, and so on."
   ]
  },
  {
   "cell_type": "code",
   "execution_count": 19,
   "metadata": {},
   "outputs": [
    {
     "name": "stdout",
     "output_type": "stream",
     "text": [
      "H\n",
      "O\n",
      "L\n",
      "E\n"
     ]
    }
   ],
   "source": [
    "# Stored String\n",
    "greeting = \"HELLO\"\n",
    "\n",
    "#Indexes\n",
    "print(greeting[0])\n",
    "print(greeting[4])\n",
    "print(greeting[3])\n",
    "print(greeting[1])"
   ]
  },
  {
   "cell_type": "markdown",
   "metadata": {},
   "source": [
    "However, as mentioned before, characters in a string are assigned two numbers which can be used to index them from the string. Positive numbers & negative ones. The negative ones allow you to start at the end of the string instead."
   ]
  },
  {
   "cell_type": "code",
   "execution_count": 22,
   "metadata": {},
   "outputs": [
    {
     "name": "stdout",
     "output_type": "stream",
     "text": [
      "O\n",
      "H\n"
     ]
    }
   ],
   "source": [
    "# Stored String\n",
    "greeting = \"HELLO\"\n",
    "\n",
    "print(greeting[-1])\n",
    "print(greeting[-5])"
   ]
  },
  {
   "cell_type": "markdown",
   "metadata": {},
   "source": [
    "<!-- #### HACK #1\n",
    "Use the ability to index strings to create a program that checks whether or not a word is a palindrome.\n",
    "\n",
    "Expected outputs:\n",
    "- If Palindrome: True\n",
    "- If not Palindrome: False -->"
   ]
  },
  {
   "cell_type": "markdown",
   "metadata": {},
   "source": [
    "### String Slicing\n",
    "String slicing is a expanded version of indexing, which instead of taking only one character, we can take multiple characters in a string.\n",
    "\n",
    "Bellow illustrates how this can be done:"
   ]
  },
  {
   "cell_type": "code",
   "execution_count": 24,
   "metadata": {},
   "outputs": [
    {
     "name": "stdout",
     "output_type": "stream",
     "text": [
      "Hydro\n"
     ]
    }
   ],
   "source": [
    "element = \"Hydrogen\"\n",
    "print(element[0:5])"
   ]
  },
  {
   "cell_type": "markdown",
   "metadata": {},
   "source": [
    "To index a section you begin with the starting character (0) and end with the index of the last character + 1.\n",
    "\n",
    "In this case of 0:5, 0 is inclusive (the character with index 0 is included), while 5 is exclusive (the character with index 5 is excluded). So that's why the character , \"g\" which has an index of 5 isn't included despite being a part of the slice 0:5\n",
    "\n",
    "This is essentially the basics in which you can do to index anything but there are some important concepts to note:"
   ]
  },
  {
   "cell_type": "code",
   "execution_count": 30,
   "metadata": {},
   "outputs": [
    {
     "name": "stdout",
     "output_type": "stream",
     "text": [
      "Lithium\n",
      "muihtiL\n",
      "ihu\n"
     ]
    }
   ],
   "source": [
    "element = \"Lithium\"\n",
    "\n",
    "# Specify an entire String\n",
    "print(element[:])\n",
    "\n",
    "# Reverse a String\n",
    "print(element[::-1])\n",
    "\n",
    "# Indexing a character after every x number of characters\n",
    "print(element[1::2])\n"
   ]
  },
  {
   "cell_type": "markdown",
   "metadata": {},
   "source": [
    "## String Methods\n",
    "The most powerful thing about strings is its ability to be manipulated via methods which are functions that change the string in a unique way.\n",
    "\n",
    "We'll list some of the most commonly used functions & how to implement them."
   ]
  },
  {
   "cell_type": "code",
   "execution_count": 32,
   "metadata": {},
   "outputs": [
    {
     "name": "stdout",
     "output_type": "stream",
     "text": [
      "Vasanth\n"
     ]
    }
   ],
   "source": [
    "# Implementing a basic method\n",
    "name = \"vasanth\"\n",
    "capitalized_name = name.capitalize()\n",
    "print(capitalized_name)"
   ]
  },
  {
   "cell_type": "markdown",
   "metadata": {},
   "source": [
    "In the example above you see in order to implement a method you take the variable then add **.function-name()** to the end of it. However as mentioned before, there are countless methods that can be used, some which are shown below:"
   ]
  },
  {
   "cell_type": "code",
   "execution_count": 34,
   "metadata": {},
   "outputs": [
    {
     "name": "stdout",
     "output_type": "stream",
     "text": [
      "Vasanth Rajasekaran\n",
      "VASANTH RAJASEKARAN\n",
      "7\n"
     ]
    }
   ],
   "source": [
    "name = \"vasanth rajasekaran\"\n",
    "language = \"English\"\n",
    "\n",
    "# To capitalize multiple words, use title method\n",
    "capitalize_full_name = name.title()\n",
    "print(capitalize_full_name)\n",
    "\n",
    "# UPPERCASE a string\n",
    "uppercase_string = name.upper()\n",
    "print(uppercase_string)\n",
    "\n",
    "# Count characters in string\n",
    "print(len(language))\n",
    "\n"
   ]
  },
  {
   "cell_type": "markdown",
   "metadata": {},
   "source": [
    "The power of string methods can't be stressed enough, so be sure to take a look at the many avaliable methods offered in Python\n",
    "\n",
    "Here's a website you can look into to: [Python Methods List](https://www.w3schools.com/python/python_ref_string.asp)"
   ]
  },
  {
   "cell_type": "markdown",
   "metadata": {},
   "source": [
    "## Hacks / Homework\n",
    "- Hack 1: Write a Python function that takes a string as input and returns the string reversed.\n",
    "- Hack 2: Create a Python program that counts the number of vowels ('a', 'e', 'i', 'o', 'u') in a given string.\n",
    "- Hack 3: Given a string, write a function to replace all occurrences of the substring 'abc' with 'xyz'.\n",
    "- Hack 4: Write a function that checks if a given string is a palindrome (reads the same forward and backward), ignoring spaces, punctuation, and case.\n",
    "- Hack 5: Write a program that finds and returns the longest word in a given sentence.\n",
    "\n",
    "**CHALLENGING QUESTION:**\n",
    "- Hack 6: Given a string containing both letters and digits, write a function that extracts all the numbers, sums them up, and returns the total."
   ]
  }
 ],
 "metadata": {
  "kernelspec": {
   "display_name": "Python 3 (ipykernel)",
   "language": "python",
   "name": "python3"
  },
  "language_info": {
   "codemirror_mode": {
    "name": "ipython",
    "version": 3
   },
   "file_extension": ".py",
   "mimetype": "text/x-python",
   "name": "python",
   "nbconvert_exporter": "python",
   "pygments_lexer": "ipython3",
   "version": "3.10.12"
  }
 },
 "nbformat": 4,
 "nbformat_minor": 2
}
