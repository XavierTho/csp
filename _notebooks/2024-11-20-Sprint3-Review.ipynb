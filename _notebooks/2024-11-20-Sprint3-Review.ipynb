{
 "cells": [
  {
   "cell_type": "markdown",
   "metadata": {},
   "source": [
    "---\n",
    "layout: post\n",
    "title: Sprint 3 Review\n",
    "toc: true\n",
    "comments: true\n",
    "---"
   ]
  },
  {
   "cell_type": "markdown",
   "metadata": {},
   "source": [
    "### Backend"
   ]
  },
  {
   "cell_type": "code",
   "execution_count": null,
   "metadata": {
    "vscode": {
     "languageId": "javascript"
    }
   },
   "outputs": [],
   "source": [
    "// Function to fetch groups for dropdown selection\n",
    "async function fetchGroups() {\n",
    "            try {\n",
    "                const response = await fetch(`${pythonURI}/api/groups`, fetchOptions);\n",
    "                if (!response.ok) {\n",
    "                    throw new Error('Failed to fetch groups: ' + response.statusText);\n",
    "                }\n",
    "                const groups = await response.json();\n",
    "                const groupSelect = document.getElementById('group_id');\n",
    "                groups.forEach(group => {\n",
    "                    const option = document.createElement('option');\n",
    "                    option.value = group.id;\n",
    "                    option.textContent = group.name;\n",
    "                    groupSelect.appendChild(option);\n",
    "                });\n",
    "            } catch (error) {\n",
    "                console.error('Error fetching groups:', error);\n",
    "            }\n",
    "        }\n"
   ]
  },
  {
   "cell_type": "markdown",
   "metadata": {},
   "source": [
    "### Chess Logic\n"
   ]
  },
  {
   "cell_type": "code",
   "execution_count": null,
   "metadata": {
    "vscode": {
     "languageId": "javascript"
    }
   },
   "outputs": [],
   "source": [
    "onst pieces = {\n",
    "    R: \"♖\", N: \"♘\", B: \"♗\", Q: \"♕\", K: \"♔\", P: \"♙\",\n",
    "    r: \"♜\", n: \"♞\", b: \"♝\", q: \"♛\", k: \"♚\", p: \"♟\",\n",
    "  };\n",
    "  const boardLayout = [\n",
    "    [\"r\", \"n\", \"b\", \"q\", \"k\", \"b\", \"n\", \"r\"],\n",
    "    [\"p\", \"p\", \"p\", \"p\", \"p\", \"p\", \"p\", \"p\"],\n",
    "    [\"\", \"\", \"\", \"\", \"\", \"\", \"\", \"\"],\n",
    "    [\"\", \"\", \"\", \"\", \"\", \"\", \"\", \"\"],\n",
    "    [\"\", \"\", \"\", \"\", \"\", \"\", \"\", \"\"],\n",
    "    [\"\", \"\", \"\", \"\", \"\", \"\", \"\", \"\"],\n",
    "    [\"P\", \"P\", \"P\", \"P\", \"P\", \"P\", \"P\", \"P\"],\n",
    "    [\"R\", \"N\", \"B\", \"Q\", \"K\", \"B\", \"N\", \"R\"],\n",
    "  ];\n",
    "\n",
    "  let selectedSquare = null;\n",
    "  let turn = \"white\";\n",
    "  const chessboard = document.getElementById(\"chessboard\");\n",
    "  const turnIndicator = document.getElementById(\"turnIndicator\");\n",
    "  const whiteCaptured = document.getElementById(\"whiteCaptured\");\n",
    "  const blackCaptured = document.getElementById(\"blackCaptured\");\n",
    "  let whiteCapturedPieces = [];\n",
    "  let blackCapturedPieces = [];\n",
    "\n",
    "  function drawBoard() {\n",
    "    chessboard.innerHTML = \"\";\n",
    "    boardLayout.forEach((row, rowIndex) => {\n",
    "      row.forEach((piece, colIndex) => {\n",
    "        const square = document.createElement(\"div\");\n",
    "        square.classList.add((rowIndex + colIndex) % 2 === 0 ? \"yellow\" : \"orange\");\n",
    "        square.textContent = pieces[piece] || \"\";\n",
    "\n",
    "        if (piece === piece.toUpperCase() && piece) {\n",
    "          square.classList.add(\"white-piece\");\n",
    "        } else if (piece === piece.toLowerCase() && piece) {\n",
    "          square.classList.add(\"black-piece\");\n",
    "        }\n",
    "\n",
    "        square.addEventListener(\"click\", () => selectSquare(rowIndex, colIndex));\n",
    "        chessboard.appendChild(square);\n",
    "      });\n",
    "    });\n",
    "  }\n",
    "\n",
    "  function selectSquare(row, col) {\n",
    "    const piece = boardLayout[row][col];\n",
    "    if (selectedSquare) {\n",
    "      movePiece(row, col);\n",
    "      selectedSquare = null;\n",
    "    } else if (\n",
    "      piece &&\n",
    "      ((turn === \"white\" && piece === piece.toUpperCase()) ||\n",
    "      (turn === \"black\" && piece === piece.toLowerCase()))\n",
    "    ) {\n",
    "      selectedSquare = { row, col, piece };\n",
    "    }\n",
    "  }\n",
    "\n",
    "  function movePiece(newRow, newCol) {\n",
    "    const { row, col, piece } = selectedSquare;\n",
    "    const targetPiece = boardLayout[newRow][newCol];\n",
    "\n",
    "    if (targetPiece && piece.toUpperCase() !== targetPiece.toUpperCase()) {\n",
    "      capturePiece(targetPiece);\n",
    "    }\n",
    "    \n",
    "    boardLayout[newRow][newCol] = piece;\n",
    "    boardLayout[row][col] = \"\";\n",
    "    drawBoard();\n",
    "\n",
    "    turn = turn === \"white\" ? \"black\" : \"white\";\n",
    "    turnIndicator.textContent = `Turn: ${turn.charAt(0).toUpperCase() + turn.slice(1)}`;\n",
    "  }\n",
    "\n",
    "  function capturePiece(piece) {\n",
    "    if (piece === piece.toUpperCase()) {\n",
    "      blackCapturedPieces.push(piece);\n",
    "      blackCaptured.textContent = blackCapturedPieces.join(\" \");\n",
    "    } else {\n",
    "      whiteCapturedPieces.push(piece);\n",
    "      whiteCaptured.textContent = whiteCapturedPieces.join(\" \");\n",
    "    }\n",
    "  }\n",
    "\n",
    "  // Chat functionality\n",
    "  const chatMessages = document.getElementById(\"chatMessages\");\n",
    "  const messageInput = document.getElementById(\"messageInput\");\n",
    "  const sendBtn = document.getElementById(\"sendBtn\");\n",
    "\n",
    "  function addMessage(content, type = \"user\") {\n",
    "    const messageDiv = document.createElement(\"div\");\n",
    "    messageDiv.classList.add(\"message\", type === \"user\" ? \"user-message\" : \"bot-message\");\n",
    "    messageDiv.textContent = content;\n",
    "    chatMessages.appendChild(messageDiv);\n",
    "    chatMessages.scrollTop = chatMessages.scrollHeight;\n",
    "  }\n",
    "\n",
    "  sendBtn.addEventListener(\"click\", () => {\n",
    "    const message = messageInput.value.trim();\n",
    "    if (message) {\n",
    "      addMessage(message, \"user\");\n",
    "      messageInput.value = \"\";\n",
    "      setTimeout(botResponse, 2000);\n",
    "    }\n",
    "  });\n",
    "\n",
    "  function botResponse() {\n",
    "    const motivationalMessages = [\n",
    "      \"Keep it up! Your next move could be a game-changer.\",\n",
    "      \"Great effort! Remember, every master was once a beginner.\",\n",
    "      \"You're doing fantastic. Stay focused and enjoy the game!\",\n",
    "    ];\n",
    "    const randomMessage =\n",
    "      motivationalMessages[Math.floor(Math.random() * motivationalMessages.length)];\n",
    "    addMessage(randomMessage, \"bot\");\n",
    "  }\n",
    "\n",
    "  drawBoard();"
   ]
  },
  {
   "cell_type": "markdown",
   "metadata": {},
   "source": [
    "### Some frontend"
   ]
  },
  {
   "cell_type": "code",
   "execution_count": null,
   "metadata": {
    "vscode": {
     "languageId": "html"
    }
   },
   "outputs": [],
   "source": [
    "\n",
    "<div class=\"chat-container\">\n",
    "<div>\n",
    "  <div class=\"chessboard\" id=\"chessboard\"></div>\n",
    "  <div class=\"captured-pieces\">\n",
    "    <div>White's Captured Pieces: <span id=\"whiteCaptured\"></span></div>\n",
    "    <div>Black's Captured Pieces: <span id=\"blackCaptured\"></span></div>\n",
    "  </div>\n",
    "</div>\n",
    "<div class=\"chat-box\">\n",
    "  <h4>Chess-Themed Chat Room</h4>\n",
    "  <div id=\"chatMessages\" class=\"chat-messages\"></div>\n",
    "  <div class=\"message-input\">\n",
    "    <input type=\"text\" id=\"messageInput\" placeholder=\"Type your message\">\n",
    "    <button id=\"sendBtn\" class=\"btn\">Send</button>\n",
    "  </div>\n",
    "</div>\n",
    "</div>\n",
    "</div>"
   ]
  }
 ],
 "metadata": {
  "language_info": {
   "name": "python"
  }
 },
 "nbformat": 4,
 "nbformat_minor": 2
}
