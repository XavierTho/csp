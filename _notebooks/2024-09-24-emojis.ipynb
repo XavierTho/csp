{
 "cells": [
  {
   "cell_type": "raw",
   "metadata": {
    "vscode": {
     "languageId": "raw"
    }
   },
   "source": [
    "---\n",
    "layout: post\n",
    "title: Emojis\n",
    "description: GitHub pages was built with Python and Jupyter Notebooks in mind.  This post is to verify tools by using Python. \n",
    "categories: [DevOps, Python]\n",
    "permalink: /jupyter/notebook/python\n",
    "menu: nav/tools_setup.html\n",
    "toc: true\n",
    "comments: true\n",
    "---"
   ]
  },
  {
   "cell_type": "markdown",
   "metadata": {},
   "source": [
    "# 📚 Emoji Exploration Jupyter Notebook\n",
    "\n",
    "---\n",
    "\n",
    "## 1. Introduction\n",
    "\n",
    "### What are Emojis?\n",
    "Emojis are small digital images or icons used to express emotions, ideas, or concepts in electronic communication. They have become an integral part of modern messaging and social media, evolving from simple smiley faces to a wide range of symbols representing everything from food and animals to complex emotions.\n",
    "\n",
    "---\n",
    "\n",
    "## 2. A Brief History of Emojis\n",
    "Emojis originated in Japan in the late 1990s. Shigetaka Kurita, a designer at NTT DoCoMo, is credited with creating the first emoji set, which included 176 simple images like weather symbols and basic facial expressions.\n",
    "\n",
    "### Timeline:\n",
    "- 1999: First set of emojis created in Japan\n",
    "- 2010: Emojis became standardized under Unicode\n",
    "- 2015: Addition of diverse skin tones and other symbols\n",
    "\n",
    "---\n",
    "\n",
    "## 3. Popular Emoji Usage"
   ]
  },
  {
   "cell_type": "code",
   "execution_count": null,
   "metadata": {},
   "outputs": [],
   "source": [
    "# Example: Analyze the most popular emojis\n",
    "\n",
    "import pandas as pd\n",
    "import matplotlib.pyplot as plt\n",
    "\n",
    "# Sample emoji data (replace with actual data if needed)\n",
    "emoji_data = {'Emoji': ['😂', '❤️', '😍', '😭', '🙏', '🤣'],\n",
    "              'Usage Frequency': [25, 20, 15, 10, 8, 5]}\n",
    "\n",
    "df = pd.DataFrame(emoji_data)\n",
    "\n",
    "# Plotting emoji frequency\n",
    "plt.figure(figsize=(8,6))\n",
    "plt.bar(df['Emoji'], df['Usage Frequency'], color='skyblue')\n",
    "plt.xlabel('Emoji')\n",
    "plt.ylabel('Usage Frequency (in millions)')\n",
    "plt.title('Top Used Emojis')\n",
    "plt.show()\n"
   ]
  }
 ],
 "metadata": {
  "kernelspec": {
   "display_name": "Python 3 (ipykernel)",
   "language": "python",
   "name": "python3"
  },
  "language_info": {
   "codemirror_mode": {
    "name": "ipython",
    "version": 3
   },
   "file_extension": ".py",
   "mimetype": "text/x-python",
   "name": "python",
   "nbconvert_exporter": "python",
   "pygments_lexer": "ipython3",
   "version": "3.10.12"
  }
 },
 "nbformat": 4,
 "nbformat_minor": 2
}
