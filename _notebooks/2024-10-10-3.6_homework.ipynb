{
 "cells": [
  {
   "cell_type": "raw",
   "metadata": {
    "vscode": {
     "languageId": "raw"
    }
   },
   "source": [
    "---\n",
    "layout: post\n",
    "title: 3.6 Homework\n",
    "toc: true\n",
    "comments: true\n",
    "---"
   ]
  },
  {
   "cell_type": "code",
   "execution_count": null,
   "metadata": {},
   "outputs": [],
   "source": [
    "def determine_food(person_type):\n",
    "    if person_type == \"healthy\":\n",
    "        print(\"Eat an apple.\")\n",
    "    elif person_type == \"doesn't care\":\n",
    "        print(\"Drink coffee.\")\n",
    "    elif person_type == \"unhealthy\":\n",
    "        print(\"Eat chocolate.\")\n",
    "    else:\n",
    "        print(\"Unknown preference. Choose a valid option.\")\n",
    "\n",
    "# Example usage:\n",
    "determine_food(\"healthy\")        # Output: Eat an apple.\n",
    "determine_food(\"doesn't care\")   # Output: Drink coffee.\n",
    "determine_food(\"unhealthy\")      # Output: Eat chocolate.\n"
   ]
  }
 ],
 "metadata": {
  "language_info": {
   "name": "python"
  }
 },
 "nbformat": 4,
 "nbformat_minor": 2
}
