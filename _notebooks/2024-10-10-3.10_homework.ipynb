{
 "cells": [
  {
   "cell_type": "raw",
   "metadata": {
    "vscode": {
     "languageId": "raw"
    }
   },
   "source": [
    "---\n",
    "layout: post\n",
    "title: 3.10 Homework\n",
    "toc: true\n",
    "comments: true\n",
    "---"
   ]
  },
  {
   "cell_type": "markdown",
   "metadata": {},
   "source": [
    "## 3.10 Python Code"
   ]
  },
  {
   "cell_type": "code",
   "execution_count": null,
   "metadata": {
    "vscode": {
     "languageId": "python"
    }
   },
   "outputs": [],
   "source": [
    "import time\n",
    "\n",
    "# Function to add an element to the list\n",
    "def add_element(my_list):\n",
    "    element = input(\"🎨 Enter an element to add: \")\n",
    "    my_list.append(element)\n",
    "    print(f\"✅ '{element}' has been added to the list!\")\n",
    "\n",
    "# Function to remove an element from the list\n",
    "def remove_element(my_list):\n",
    "    element = input(\"❌ Enter an element to remove: \")\n",
    "    if element in my_list:\n",
    "        my_list.remove(element)\n",
    "        print(f\"🗑️ '{element}' has been removed from the list!\")\n",
    "    else:\n",
    "        print(f\"⚠️ '{element}' is not in the list. Try again.\")\n",
    "\n",
    "# Function to check if an element exists in the list\n",
    "def check_element(my_list):\n",
    "    element = input(\"🔍 Enter an element to check: \")\n",
    "    if element in my_list:\n",
    "        print(f\"👍 '{element}' exists in the list!\")\n",
    "    else:\n",
    "        print(f\"👎 '{element}' is not in the list.\")\n",
    "\n",
    "# Function to display the current list\n",
    "def display_list(my_list):\n",
    "    if my_list:\n",
    "        print(\"\\n📜 Here is your current list:\")\n",
    "        for i, item in enumerate(my_list, 1):\n",
    "            print(f\"{i}. {item}\")\n",
    "    else:\n",
    "        print(\"\\n📜 Your list is currently empty.\")\n",
    "\n",
    "# Function to find the maximum and minimum value using iteration\n",
    "def find_max_min(my_list):\n",
    "    try:\n",
    "        int_list = [int(i) for i in my_list]\n",
    "    except ValueError:\n",
    "        print(\"❗ List contains non-integer values. Please only use integers.\")\n",
    "        return\n",
    "\n",
    "    max_value = int_list[0]\n",
    "    min_value = int_list[0]\n",
    "    \n",
    "    for num in int_list:\n",
    "        if num > max_value:\n",
    "            max_value = num\n",
    "        if num < min_value:\n",
    "            min_value = num\n",
    "\n",
    "    print(f\"🌟 Maximum value: {max_value}\")\n",
    "    print(f\"🌈 Minimum value: {min_value}\")\n",
    "\n",
    "# Main program loop\n",
    "def main():\n",
    "    my_list = []  # Initialize an empty list\n",
    "\n",
    "    print(\"🎉 Welcome to the Ultimate List Manager! 🎉\")\n",
    "    time.sleep(1)\n",
    "\n",
    "    while True:\n",
    "        print(\"\\nChoose an option:\")\n",
    "        print(\"1. ➕ Add an element\")\n",
    "        print(\"2. ➖ Remove an element\")\n",
    "        print(\"3. 🔎 Check if an element exists\")\n",
    "        print(\"4. 📜 Display the current list\")\n",
    "        print(\"5. 🔢 Find the maximum and minimum values in the list\")\n",
    "        print(\"6. 🚪 Exit\")\n",
    "\n",
    "        choice = input(\"Enter your choice: \")\n",
    "\n",
    "        if choice == '1':\n",
    "            add_element(my_list)\n",
    "        elif choice == '2':\n",
    "            remove_element(my_list)\n",
    "        elif choice == '3':\n",
    "            check_element(my_list)\n",
    "        elif choice == '4':\n",
    "            display_list(my_list)\n",
    "        elif choice == '5':\n",
    "            find_max_min(my_list)\n",
    "        elif choice == '6':\n",
    "            print(\"👋 Goodbye! Thanks for using the Ultimate List Manager!\")\n",
    "            break\n",
    "        else:\n",
    "            print(\"⚠️ Invalid choice, please try again.\")\n",
    "\n",
    "        time.sleep(0.5)  # Add a short delay for better user experience\n",
    "\n",
    "# Run the main function\n",
    "main()"
   ]
  },
  {
   "cell_type": "markdown",
   "metadata": {},
   "source": [
    "## 3.10 JavaScript Code"
   ]
  },
  {
   "cell_type": "code",
   "execution_count": null,
   "metadata": {
    "vscode": {
     "languageId": "javascript"
    }
   },
   "outputs": [],
   "source": [
    "%%js\n",
    "\n",
    "<!DOCTYPE html>\n",
    "<html lang=\"en\">\n",
    "<head>\n",
    "  <meta charset=\"UTF-8\">\n",
    "  <meta name=\"viewport\" content=\"width=device-width, initial-scale=1.0\">\n",
    "  <title>Shopping Cart Simulator 🛒</title>\n",
    "</head>\n",
    "<body>\n",
    "  <h1>Welcome to the Shopping Cart Simulator! 🏬🛒</h1>\n",
    "  <p>Type in items to add or remove them from your shopping cart.</p>\n",
    "\n",
    "  <!-- Buttons for adding and removing items -->\n",
    "  <input type=\"text\" id=\"itemInput\" placeholder=\"Enter item name\">\n",
    "  <button onclick=\"addItem()\">Add Item ➕</button>\n",
    "  <button onclick=\"removeItem()\">Remove Item ➖</button>\n",
    "\n",
    "  <!-- Display the current cart -->\n",
    "  <h2>Shopping Cart:</h2>\n",
    "  <div id=\"cart\"></div>\n",
    "\n",
    "  <script>\n",
    "    // Initialize an empty cart array\n",
    "    let cart = [];\n",
    "\n",
    "    // Function to add an item to the cart\n",
    "    function addItem() {\n",
    "      const itemInput = document.getElementById('itemInput');\n",
    "      const item = itemInput.value.trim();\n",
    "      \n",
    "      if (item) {\n",
    "        cart.push(item);\n",
    "        alert(`🛒 Added '${item}' to the cart!`);\n",
    "        displayCart();\n",
    "      } else {\n",
    "        alert(\"Please enter an item name to add to the cart.\");\n",
    "      }\n",
    "\n",
    "      itemInput.value = ''; // Clear the input field\n",
    "    }\n",
    "\n",
    "    // Function to remove an item from the cart\n",
    "    function removeItem() {\n",
    "      const itemInput = document.getElementById('itemInput');\n",
    "      const item = itemInput.value.trim();\n",
    "      \n",
    "      if (item && cart.includes(item)) {\n",
    "        cart = cart.filter(cartItem => cartItem !== item);\n",
    "        alert(`❌ Removed '${item}' from the cart.`);\n",
    "        displayCart();\n",
    "      } else if (item) {\n",
    "        alert(`⚠️ '${item}' is not in the cart.`);\n",
    "      } else {\n",
    "        alert(\"Please enter an item name to remove from the cart.\");\n",
    "      }\n",
    "\n",
    "      itemInput.value = ''; // Clear the input field\n",
    "    }\n",
    "\n",
    "    // Function to display the current cart\n",
    "    function displayCart() {\n",
    "      const cartDiv = document.getElementById('cart');\n",
    "      cartDiv.innerHTML = ''; // Clear the cart display\n",
    "\n",
    "      if (cart.length === 0) {\n",
    "        cartDiv.innerHTML = \"Your cart is empty.\";\n",
    "      } else {\n",
    "        cartDiv.innerHTML = \"Items in your cart:\";\n",
    "        cart.forEach((item, index) => {\n",
    "          const itemElement = document.createElement('div');\n",
    "          itemElement.innerHTML = `🛍️ ${index + 1}. ${item}`;\n",
    "          cartDiv.appendChild(itemElement);\n",
    "        });\n",
    "      }\n",
    "    }\n",
    "\n",
    "    // Initial cart display\n",
    "    displayCart();\n",
    "  </script>\n",
    "</body>\n",
    "</html>\n"
   ]
  },
  {
   "cell_type": "markdown",
   "metadata": {},
   "source": [
    "## Popcorn Hack 1"
   ]
  },
  {
   "cell_type": "code",
   "execution_count": null,
   "metadata": {
    "vscode": {
     "languageId": "python"
    }
   },
   "outputs": [],
   "source": [
    "# Original list of numbers\n",
    "numbers = [1, 2, 3, 4, 5, 6, 7, 8, 9, 10]\n",
    "print(\"🎲 Original list of numbers:\", numbers)\n",
    "\n",
    "# Using list comprehension to filter and transform the list\n",
    "even_numbers = [num for num in numbers if num % 2 == 0]\n",
    "odd_numbers = [num for num in numbers if num % 2 != 0]\n",
    "squared_numbers = [num ** 2 for num in numbers]\n",
    "\n",
    "# Displaying the results with some creative flair\n",
    "print(\"\\n🔹 Only the even numbers:\")\n",
    "for num in even_numbers:\n",
    "    print(f\"  - {num} is even\")\n",
    "\n",
    "print(\"\\n🔸 Only the odd numbers:\")\n",
    "for num in odd_numbers:\n",
    "    print(f\"  - {num} is odd\")\n",
    "\n",
    "print(\"\\n✨ Squared values of all numbers:\")\n",
    "for original, squared in zip(numbers, squared_numbers):\n",
    "    print(f\"  - {original} squared is {squared}\")"
   ]
  },
  {
   "cell_type": "markdown",
   "metadata": {},
   "source": [
    "## Popcorn Hack 2"
   ]
  },
  {
   "cell_type": "code",
   "execution_count": null,
   "metadata": {
    "vscode": {
     "languageId": "javascript"
    }
   },
   "outputs": [],
   "source": [
    "// Part 1: Using reduce() to sum numbers\n",
    "const numbers = [10, 20, 30, 40, 50];\n",
    "const sum = numbers.reduce((accumulator, currentValue) => accumulator + currentValue, 0);\n",
    "console.log(\"Sum of numbers:\", sum);\n",
    "\n",
    "// Part 2: Sorting integers numerically\n",
    "const randomIntegers = [9, 1, 77, 4, 80, 3, 8];\n",
    "randomIntegers.sort((a, b) => a - b);\n",
    "console.log(\"Sorted integers:\", randomIntegers);\n",
    "\n",
    "// Part 3: Sorting number words alphabetically\n",
    "const numberWords = [\"Nine\", \"One\", \"Seventy-Seven\", \"Four\", \"Eighty\", \"Three\", \"Eight\"];\n",
    "numberWords.sort();\n",
    "console.log(\"Sorted number words:\", numberWords);\n"
   ]
  }
 ],
 "metadata": {
  "kernelspec": {
   "display_name": "Python 3 (ipykernel)",
   "language": "python",
   "name": "python3"
  }
 },
 "nbformat": 4,
 "nbformat_minor": 2
}
